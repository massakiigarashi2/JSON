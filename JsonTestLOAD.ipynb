{
  "nbformat": 4,
  "nbformat_minor": 0,
  "metadata": {
    "colab": {
      "provenance": []
    },
    "kernelspec": {
      "name": "python3",
      "display_name": "Python 3"
    },
    "language_info": {
      "name": "python"
    }
  },
  "cells": [
    {
      "cell_type": "markdown",
      "source": [
        "Para isso, basta acessar o link base \"http://transparencia.campinas.sp.gov.br/ws/[método escolhido]/[parâmetros]\n",
        "\n",
        "https://transparencia.campinas.sp.gov.br/index.php?action=ws&mode=getDespesasTotal\n",
        "\n",
        "https://www.powercms.in/article/how-get-json-data-remote-url-python-script\n",
        "\n",
        "DICA JSON!\n",
        "https://acervolima.com/como-ler-uma-resposta-json-de-um-link-em-python/\n"
      ],
      "metadata": {
        "id": "XRmGbmsptZqP"
      }
    },
    {
      "cell_type": "code",
      "source": [
        "# import urllib library\n",
        "from urllib.request import urlopen\n",
        "  \n",
        "# import json\n",
        "import json\n",
        "# store the URL in url as \n",
        "# parameter for urlopen\n",
        "url = \"https://transparencia.campinas.sp.gov.br/index.php?action=ws&mode=getDespesasTotal\"\n",
        "  \n",
        "# store the response of URL\n",
        "response = urlopen(url)\n",
        "  \n",
        "# storing the JSON response \n",
        "# from url in data\n",
        "data_json = json.loads(response.read())\n",
        "  \n",
        "# print the json response\n",
        "print(data_json)"
      ],
      "metadata": {
        "colab": {
          "base_uri": "https://localhost:8080/"
        },
        "id": "hEsOJwe5xNy4",
        "outputId": "2582500f-37fd-45f5-dd6d-ac25dd552100"
      },
      "execution_count": 22,
      "outputs": [
        {
          "output_type": "stream",
          "name": "stdout",
          "text": [
            "[{'tipoTransacao': 'empenho', 'grupo': '018000-CAMARA MUNICIPAL', 'valorTotal': '392334.97'}, {'tipoTransacao': 'empenho', 'grupo': '021000-GABINETE DO PREFEITO', 'valorTotal': '411057.32'}, {'tipoTransacao': 'empenho', 'grupo': '031000-SECRETARIA MUNICIPAL DE ADMINISTRACAO', 'valorTotal': '28990.5'}, {'tipoTransacao': 'empenho', 'grupo': '041000-SECRETARIA MUNICIPAL DE JUSTI&Ccedil;A', 'valorTotal': '6175.14'}, {'tipoTransacao': 'empenho', 'grupo': '047100-FUNDO MUN.DE DEFESA DOS DIREITOS DIFUSOS', 'valorTotal': '6857515.19'}, {'tipoTransacao': 'empenho', 'grupo': '051000-SECRETARIA MUNICIPAL DE FINANCAS', 'valorTotal': '4654.62'}, {'tipoTransacao': 'empenho', 'grupo': '061000-SECRETARIA MUNICIPAL DE GEST&Atilde;O E DESENVOLVIMENTO DE PESSOAS', 'valorTotal': '62902.92'}, {'tipoTransacao': 'empenho', 'grupo': '071000-SECRETARIA MUNICIPAL DE EDUCACAO', 'valorTotal': '1044211.62'}, {'tipoTransacao': 'empenho', 'grupo': '087000-FUNDO MUNICIPAL DE SAUDE', 'valorTotal': '7395781.01'}, {'tipoTransacao': 'empenho', 'grupo': '091100-SECRETARIA MUNICIPAL DE CIDADANIA,ASSIST&Ecirc;NCIA E INCLUS&Atilde;O SOC', 'valorTotal': '75649.44'}, {'tipoTransacao': 'empenho', 'grupo': '097100-FUNDO MUN.DE DIR. DA CRIANCA E DO ADOLESCENTE', 'valorTotal': '0'}, {'tipoTransacao': 'empenho', 'grupo': '097200-FUNDO MUN.DE ASSISTENCIA SOCIAL', 'valorTotal': '262144.08'}, {'tipoTransacao': 'empenho', 'grupo': '111000-SECRETARIA MUNICIPAL DE CULTURA E TURISMO', 'valorTotal': '905625.49'}, {'tipoTransacao': 'empenho', 'grupo': '117100-FUNDO DE ASSISTENCIA A CULTURA', 'valorTotal': '114960'}, {'tipoTransacao': 'empenho', 'grupo': '121000-SECRETARIA MUNICIPAL DE TRANSPORTES', 'valorTotal': '4774559.98'}, {'tipoTransacao': 'empenho', 'grupo': '151000-SECRETARIA MUNICIPAL DE HABITA&Ccedil;&Atilde;O', 'valorTotal': '13401.39'}, {'tipoTransacao': 'empenho', 'grupo': '161000-SECRETARIA MUNICIPAL DE COOP.NOS ASSUNTOS DE SEG.PUBLICA', 'valorTotal': '10775.71'}, {'tipoTransacao': 'empenho', 'grupo': '201000-SECRETARIA MUNICIPAL DE INFRAESTRUTURA', 'valorTotal': '8044823.12'}, {'tipoTransacao': 'empenho', 'grupo': '221000-SECRETARIA MUNICIPAL DE ESPORTES E LAZER', 'valorTotal': '146110'}, {'tipoTransacao': 'empenho', 'grupo': '231000-SECRETARIA MUNICIPAL DO VERDE E DO DESENVOLVIMENTO SUSTENT&Aacute;V', 'valorTotal': '33410'}, {'tipoTransacao': 'empenho', 'grupo': '237100-Fdo Recup, Manut E Preserv Meio Ambiente - Proamb', 'valorTotal': '67695.83'}, {'tipoTransacao': 'empenho', 'grupo': '241000-SECRETARIA MUNICIPAL DE TRABALHO E RENDA', 'valorTotal': '500'}, {'tipoTransacao': 'empenho', 'grupo': '251000-SECRETARIA MUNICIPAL DE SERVI&Ccedil;OS P&Uacute;BLICOS', 'valorTotal': '7404376.28'}, {'tipoTransacao': 'empenho', 'grupo': '257100-FUNDO &Uacute;NICO FOMENTO AOS PARQUES MUNICIPAIS', 'valorTotal': '30440'}, {'tipoTransacao': 'empenho', 'grupo': '301000-Secretaria Municipal de Planejamento e Urbanismo', 'valorTotal': '34701.68'}, {'tipoTransacao': 'empenho', 'grupo': '523000-SERVI&Ccedil;OS TECNICOS GERAIS - SETEC', 'valorTotal': '98846.05'}, {'tipoTransacao': 'empenho', 'grupo': '533300-FUNDO PREVIDENCIARIO CAMPREV', 'valorTotal': '16409.96'}, {'tipoTransacao': 'empenho', 'grupo': '543300-FUNDO FINANCEIRO - CAMPREV', 'valorTotal': '194626.78'}, {'tipoTransacao': 'empenho', 'grupo': '583000-Rede Mun. Dr.Mario Gatti de Urg&ecirc;ncia,Emerg&ecirc;ncia e Hospitalar', 'valorTotal': '26244393.58'}, {'tipoTransacao': 'empenho', 'grupo': '604000-FUNDA&Ccedil;&Atilde;O MUNICIPAL COMUNITARIA - FUMEC', 'valorTotal': '365781.12'}]\n"
          ]
        }
      ]
    },
    {
      "cell_type": "code",
      "source": [],
      "metadata": {
        "colab": {
          "base_uri": "https://localhost:8080/",
          "height": 235
        },
        "id": "g0NY__YoyB4R",
        "outputId": "41b9f61c-3199-4a42-ff89-06e586d04bb2"
      },
      "execution_count": 18,
      "outputs": [
        {
          "output_type": "error",
          "ename": "AttributeError",
          "evalue": "ignored",
          "traceback": [
            "\u001b[0;31m---------------------------------------------------------------------------\u001b[0m",
            "\u001b[0;31mAttributeError\u001b[0m                            Traceback (most recent call last)",
            "\u001b[0;32m<ipython-input-18-0f741d198982>\u001b[0m in \u001b[0;36m<module>\u001b[0;34m\u001b[0m\n\u001b[1;32m      1\u001b[0m \u001b[0;32mimport\u001b[0m \u001b[0murllib\u001b[0m\u001b[0;34m,\u001b[0m \u001b[0mjson\u001b[0m\u001b[0;34m\u001b[0m\u001b[0;34m\u001b[0m\u001b[0m\n\u001b[1;32m      2\u001b[0m \u001b[0murl\u001b[0m \u001b[0;34m=\u001b[0m \u001b[0;34m\"https://transparencia.campinas.sp.gov.br/index.php?action=ws&mode=getDespesasTotal\"\u001b[0m\u001b[0;34m\u001b[0m\u001b[0;34m\u001b[0m\u001b[0m\n\u001b[0;32m----> 3\u001b[0;31m \u001b[0mresponse\u001b[0m \u001b[0;34m=\u001b[0m \u001b[0murllib\u001b[0m\u001b[0;34m.\u001b[0m\u001b[0murlopen\u001b[0m\u001b[0;34m(\u001b[0m\u001b[0murl\u001b[0m\u001b[0;34m)\u001b[0m\u001b[0;34m\u001b[0m\u001b[0;34m\u001b[0m\u001b[0m\n\u001b[0m\u001b[1;32m      4\u001b[0m \u001b[0mdata\u001b[0m \u001b[0;34m=\u001b[0m \u001b[0mjson\u001b[0m\u001b[0;34m.\u001b[0m\u001b[0mloads\u001b[0m\u001b[0;34m(\u001b[0m\u001b[0mresponse\u001b[0m\u001b[0;34m.\u001b[0m\u001b[0mread\u001b[0m\u001b[0;34m(\u001b[0m\u001b[0;34m)\u001b[0m\u001b[0;34m)\u001b[0m\u001b[0;34m\u001b[0m\u001b[0;34m\u001b[0m\u001b[0m\n\u001b[1;32m      5\u001b[0m \u001b[0mprint\u001b[0m\u001b[0;34m(\u001b[0m\u001b[0mdata\u001b[0m\u001b[0;34m)\u001b[0m\u001b[0;34m\u001b[0m\u001b[0;34m\u001b[0m\u001b[0m\n",
            "\u001b[0;31mAttributeError\u001b[0m: module 'urllib' has no attribute 'urlopen'"
          ]
        }
      ]
    }
  ]
}